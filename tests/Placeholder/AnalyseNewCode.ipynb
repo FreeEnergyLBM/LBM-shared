{
 "cells": [
  {
   "cell_type": "code",
   "execution_count": 2,
   "metadata": {},
   "outputs": [],
   "source": [
    "import os, math, re, sys\n",
    "import struct\n",
    "import numpy as np\n",
    "import matplotlib.pyplot as plt"
   ]
  },
  {
   "cell_type": "code",
   "execution_count": 3,
   "metadata": {},
   "outputs": [
    {
     "name": "stderr",
     "output_type": "stream",
     "text": [
      "mkdir: cannot create directory ‘figures’: File exists\n"
     ]
    }
   ],
   "source": [
    "t_zero = 0\n",
    "tstart = 0\n",
    "tinc = 1\n",
    "tend = 49\n",
    "outDirName = \"figures\"\n",
    "os.system(\"mkdir %s\"%outDirName)\n",
    "ndim=3"
   ]
  },
  {
   "cell_type": "markdown",
   "metadata": {},
   "source": []
  },
  {
   "cell_type": "code",
   "execution_count": 47,
   "metadata": {},
   "outputs": [
    {
     "name": "stdout",
     "output_type": "stream",
     "text": [
      "t=0\n",
      "ArchiveData/test/newCode/velocity_t0.mat\n",
      "[[[0.00000000e+00 0.00000000e+00 3.33333333e-05 5.00000000e-05\n",
      "   5.00000000e-05 5.00000000e-05 5.00000000e-05 5.00000000e-05\n",
      "   5.00000000e-05 5.00000000e-05 5.00000000e-05 5.00000000e-05\n",
      "   5.00000000e-05 5.00000000e-05 5.00000000e-05 5.00000000e-05\n",
      "   5.00000000e-05 5.00000000e-05 5.00000000e-05 5.00000000e-05\n",
      "   5.00000000e-05 5.00000000e-05 5.00000000e-05 5.00000000e-05\n",
      "   5.00000000e-05 5.00000000e-05 5.00000000e-05 3.33333333e-05\n",
      "   0.00000000e+00 0.00000000e+00]]\n",
      "\n",
      " [[0.00000000e+00 0.00000000e+00 3.33333333e-05 5.00000000e-05\n",
      "   5.00000000e-05 5.00000000e-05 5.00000000e-05 5.00000000e-05\n",
      "   5.00000000e-05 5.00000000e-05 5.00000000e-05 5.00000000e-05\n",
      "   5.00000000e-05 5.00000000e-05 5.00000000e-05 5.00000000e-05\n",
      "   5.00000000e-05 5.00000000e-05 5.00000000e-05 5.00000000e-05\n",
      "   5.00000000e-05 5.00000000e-05 5.00000000e-05 5.00000000e-05\n",
      "   5.00000000e-05 5.00000000e-05 5.00000000e-05 3.33333333e-05\n",
      "   0.00000000e+00 0.00000000e+00]]\n",
      "\n",
      " [[0.00000000e+00 0.00000000e+00 3.33333333e-05 5.00000000e-05\n",
      "   5.00000000e-05 5.00000000e-05 5.00000000e-05 5.00000000e-05\n",
      "   5.00000000e-05 5.00000000e-05 5.00000000e-05 5.00000000e-05\n",
      "   5.00000000e-05 5.00000000e-05 5.00000000e-05 5.00000000e-05\n",
      "   5.00000000e-05 5.00000000e-05 5.00000000e-05 5.00000000e-05\n",
      "   5.00000000e-05 5.00000000e-05 5.00000000e-05 5.00000000e-05\n",
      "   5.00000000e-05 5.00000000e-05 5.00000000e-05 3.33333333e-05\n",
      "   0.00000000e+00 0.00000000e+00]]]\n",
      "t=1\n"
     ]
    },
    {
     "ename": "FileNotFoundError",
     "evalue": "[Errno 2] No such file or directory: 'ArchiveData/test/newCode/density_t1.mat'",
     "output_type": "error",
     "traceback": [
      "\u001b[0;31m---------------------------------------------------------------------------\u001b[0m",
      "\u001b[0;31mFileNotFoundError\u001b[0m                         Traceback (most recent call last)",
      "\u001b[1;32m/home/bzzf67/Documents/AnalyseNewCode.ipynb Cell 4\u001b[0m in \u001b[0;36m<cell line: 14>\u001b[0;34m()\u001b[0m\n\u001b[1;32m     <a href='vscode-notebook-cell:/home/bzzf67/Documents/AnalyseNewCode.ipynb#W3sZmlsZQ%3D%3D?line=15'>16</a>\u001b[0m t_file \u001b[39m=\u001b[39mt\u001b[39m+\u001b[39mt_zero\n\u001b[1;32m     <a href='vscode-notebook-cell:/home/bzzf67/Documents/AnalyseNewCode.ipynb#W3sZmlsZQ%3D%3D?line=17'>18</a>\u001b[0m file_name \u001b[39m=\u001b[39m \u001b[39m\"\u001b[39m\u001b[39mArchiveData/test/newCode/\u001b[39m\u001b[39m\"\u001b[39m\u001b[39m+\u001b[39m\u001b[39m\"\u001b[39m\u001b[39mdensity_t\u001b[39m\u001b[39m%li\u001b[39;00m\u001b[39m.mat\u001b[39m\u001b[39m\"\u001b[39m\u001b[39m%\u001b[39mt_file\n\u001b[0;32m---> <a href='vscode-notebook-cell:/home/bzzf67/Documents/AnalyseNewCode.ipynb#W3sZmlsZQ%3D%3D?line=19'>20</a>\u001b[0m File \u001b[39m=\u001b[39m \u001b[39mopen\u001b[39;49m(file_name, \u001b[39m'\u001b[39;49m\u001b[39mrb\u001b[39;49m\u001b[39m'\u001b[39;49m)\n\u001b[1;32m     <a href='vscode-notebook-cell:/home/bzzf67/Documents/AnalyseNewCode.ipynb#W3sZmlsZQ%3D%3D?line=20'>21</a>\u001b[0m file_name \u001b[39m=\u001b[39m \u001b[39m\"\u001b[39m\u001b[39mArchiveData/test/newCode/\u001b[39m\u001b[39m\"\u001b[39m\u001b[39m+\u001b[39m\u001b[39m\"\u001b[39m\u001b[39mvelocity_t\u001b[39m\u001b[39m%li\u001b[39;00m\u001b[39m.mat\u001b[39m\u001b[39m\"\u001b[39m\u001b[39m%\u001b[39mt_file\n\u001b[1;32m     <a href='vscode-notebook-cell:/home/bzzf67/Documents/AnalyseNewCode.ipynb#W3sZmlsZQ%3D%3D?line=22'>23</a>\u001b[0m File2 \u001b[39m=\u001b[39m \u001b[39mopen\u001b[39m(file_name, \u001b[39m'\u001b[39m\u001b[39mrb\u001b[39m\u001b[39m'\u001b[39m)\n",
      "\u001b[0;31mFileNotFoundError\u001b[0m: [Errno 2] No such file or directory: 'ArchiveData/test/newCode/density_t1.mat'"
     ]
    }
   ],
   "source": [
    "from scipy      import optimize\n",
    "cangs=np.empty(int((tend-tstart)/tinc)+1)\n",
    "mns=np.array([])\n",
    "Rs=np.array([])\n",
    "\n",
    "def regress(x,y):\n",
    "    A = np.vstack([x, np.ones(len(x))]).T\n",
    "    alpha = np.dot((np.dot(np.linalg.inv(np.dot(A.T,A)),A.T)),y[:, np.newaxis])\n",
    "    #print((alpha[1]-0.5*alpha[0])/((len(x)+0.5)*alpha[0]+alpha[1]))\n",
    "    return alpha\n",
    "    #return (alpha[1]-0.5*alpha[0])/((len(x)+0.5)*alpha[0]+alpha[1])\n",
    "    #print(y)\n",
    "\n",
    "for t in range(tstart,tend+1,tinc):\n",
    "    print(\"t=%s\"%t)\n",
    "    t_file =t+t_zero\n",
    "\n",
    "    file_name = \"ArchiveData/test/newCode/\"+\"density_t%li.mat\"%t_file\n",
    "\n",
    "    File = open(file_name, 'rb')\n",
    "    file_name = \"ArchiveData/test/newCode/\"+\"velocity_t%li.mat\"%t_file\n",
    "\n",
    "    File2 = open(file_name, 'rb')\n",
    "    print(file_name)\n",
    "\n",
    "    def coord_k(k, LY, LZ):\n",
    "        \"\"\"From a k value, determines its xk, yk, and zk.\"\"\"    \n",
    "\n",
    "        xk = math.floor(k/(LY*LZ))\n",
    "        yk = math.floor((k - xk*LZ*LY)/LZ)\n",
    "        zk = k - xk*LZ*LY - yk*LZ\n",
    "        return xk, yk, zk\n",
    "\n",
    "    LX=3\n",
    "    LY=1\n",
    "    LZ=30\n",
    "    NLatt=LX*LY*LZ\n",
    "    rho = np.zeros((LX,LY,LZ))\n",
    "    v = np.zeros((LX,LY,LZ,3))\n",
    "\n",
    "    for k in range(0,NLatt,1):\n",
    "        (xk,yk,zk) = coord_k(k,LY,LZ)\n",
    "        rho[xk,yk,zk] = struct.unpack('=d', File.read(8))[0]\n",
    "\n",
    "        for i in range(ndim):\n",
    "            v[xk,yk,zk,i] = struct.unpack('=d', File2.read(8))[0]\n",
    "\n",
    "    File.close()\n",
    "    \n",
    "    rgbv = np.zeros((LZ,LX))\n",
    "\n",
    "    rgbv[:,:] = np.flip(np.flip(rho[:,int(LY/2),:].transpose()),1)\n",
    "    \n",
    "    fig,ax=plt.subplots(1,1,figsize=(6,6))\n",
    "\n",
    "    output = \"%s/component_plot_%012d.png\"%(outDirName,t)\n",
    "\n",
    "    ax.imshow(v[:,0,:,0].transpose(),interpolation='nearest',origin='upper')\n",
    "    print(v[:,:,:,0])\n",
    "    step=1\n",
    "    X,Y=np.meshgrid(np.linspace(0,LX-1,int((LX)/step)),np.linspace(0,LZ-1,int((LZ)/step)))\n",
    "\n",
    "    ax.quiver(X.T,Y.T,np.flip(np.flip(v[0:LX+1:step,int(LY/2),0:LZ+1:step,0]),0),np.flip(np.flip(v[0:LX+1:step,int(LY/2),0:LZ+1:step,ndim-1]),0),width=0.0005,headwidth=6.5,headlength=2.5)\n",
    "\n",
    "    plt.savefig(output, dpi=500, format='png')\n",
    "    plt.close(fig)"
   ]
  },
  {
   "cell_type": "markdown",
   "metadata": {},
   "source": []
  }
 ],
 "metadata": {
  "interpreter": {
   "hash": "916dbcbb3f70747c44a77c7bcd40155683ae19c65e1c03b4aa3499c5328201f1"
  },
  "kernelspec": {
   "display_name": "Python 3.8.10 64-bit",
   "language": "python",
   "name": "python3"
  },
  "language_info": {
   "codemirror_mode": {
    "name": "ipython",
    "version": 3
   },
   "file_extension": ".py",
   "mimetype": "text/x-python",
   "name": "python",
   "nbconvert_exporter": "python",
   "pygments_lexer": "ipython3",
   "version": "3.8.10"
  },
  "orig_nbformat": 4
 },
 "nbformat": 4,
 "nbformat_minor": 2
}
